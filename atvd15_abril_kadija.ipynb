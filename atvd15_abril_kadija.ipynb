{
  "nbformat": 4,
  "nbformat_minor": 0,
  "metadata": {
    "colab": {
      "provenance": [],
      "toc_visible": true,
      "authorship_tag": "ABX9TyORbLja6aoa55ZEATcJtqnL",
      "include_colab_link": true
    },
    "kernelspec": {
      "name": "python3",
      "display_name": "Python 3"
    },
    "language_info": {
      "name": "python"
    }
  },
  "cells": [
    {
      "cell_type": "markdown",
      "metadata": {
        "id": "view-in-github",
        "colab_type": "text"
      },
      "source": [
        "<a href=\"https://colab.research.google.com/github/ibielzn/atvd-diaa-15/blob/main/atvd15_abril_kadija.ipynb\" target=\"_parent\"><img src=\"https://colab.research.google.com/assets/colab-badge.svg\" alt=\"Open In Colab\"/></a>"
      ]
    },
    {
      "cell_type": "markdown",
      "source": [
        "atvd 1"
      ],
      "metadata": {
        "id": "Iz9gipyuCOaS"
      }
    },
    {
      "cell_type": "code",
      "source": [
        "# Criando o Catálogo\n",
        "catalogo_magico = []\n",
        "\n",
        "# Função para adicionar livros\n",
        "def adicionar_livro(catalogo, livro):\n",
        "    catalogo.append(livro)\n",
        "\n",
        "# Adicionando livros ao catálogo\n",
        "adicionar_livro(catalogo_magico, \"O Feitiço da Lua Crescente\")\n",
        "adicionar_livro(catalogo_magico, \"A Jornada do Unicórnio Perdido\")\n",
        "adicionar_livro(catalogo_magico, \"Segredos da Floresta Encantada\")\n",
        "\n",
        "# Visualizar o Catálogo\n",
        "print(\"Catálogo mágico inicial:\")\n",
        "print(catalogo_magico)\n",
        "\n",
        "# Função para buscar livro por posição\n",
        "def buscar_livro(catalogo, indice):\n",
        "    return catalogo[indice]\n",
        "\n",
        "# Buscando o livro na posição 1\n",
        "livro_encontrado = buscar_livro(catalogo_magico, 1)\n",
        "print(\"\\nLivro na posição 1:\")\n",
        "print(livro_encontrado)\n",
        "\n",
        "# Removendo o livro \"A Jornada do Unicórnio Perdido\"\n",
        "catalogo_magico.remove(\"A Jornada do Unicórnio Perdido\")\n",
        "\n",
        "# Visualizando Catálogo Atualizado\n",
        "print(\"\\nCatálogo mágico após remoção:\")\n",
        "print(catalogo_magico)\n",
        "\n",
        "# Função para verificar se o livro está no catálogo\n",
        "def verificar_livro(catalogo, livro):\n",
        "    return livro in catalogo\n",
        "\n",
        "# Verificando se \"Segredos da Floresta Encantada\" ainda está no catálogo\n",
        "presente = verificar_livro(catalogo_magico, \"Segredos da Floresta Encantada\")\n",
        "print(\"\\n'\\\"Segredos da Floresta Encantada\\\" está no catálogo?'\", presente)\n"
      ],
      "metadata": {
        "colab": {
          "base_uri": "https://localhost:8080/"
        },
        "id": "EPsBQr9LC1CD",
        "outputId": "f1a623c4-c03e-4f0f-f237-e8ab4a42c234"
      },
      "execution_count": null,
      "outputs": [
        {
          "output_type": "stream",
          "name": "stdout",
          "text": [
            "Catálogo mágico inicial:\n",
            "['O Feitiço da Lua Crescente', 'A Jornada do Unicórnio Perdido', 'Segredos da Floresta Encantada']\n",
            "\n",
            "Livro na posição 1:\n",
            "A Jornada do Unicórnio Perdido\n",
            "\n",
            "Catálogo mágico após remoção:\n",
            "['O Feitiço da Lua Crescente', 'Segredos da Floresta Encantada']\n",
            "\n",
            "'\"Segredos da Floresta Encantada\" está no catálogo?' True\n"
          ]
        }
      ]
    },
    {
      "cell_type": "markdown",
      "source": [
        "atvd 2"
      ],
      "metadata": {
        "id": "ozQY_MKZCV9e"
      }
    },
    {
      "cell_type": "code",
      "source": [
        "from collections import deque\n",
        "\n",
        "#Criar a Fila\n",
        "fila_de_pedidos = deque()\n",
        "\n",
        "#Adicionar Pedidos\n",
        "def adicionar_pedido(fila, pedido):\n",
        "    fila.append(pedido)\n",
        "\n",
        "adicionar_pedido(fila_de_pedidos, \"Martelo Encantado\")\n",
        "adicionar_pedido(fila_de_pedidos, \"Pinça Teleportadora\")\n",
        "adicionar_pedido(fila_de_pedidos, \"Chave de Fenda Sônica\")\n",
        "\n",
        "#Visualizar a Fila\n",
        "print(\"Fila de pedidos atual:\", list(fila_de_pedidos))\n",
        "\n",
        "#Processar Pedido\n",
        "def processar_pedido(fila):\n",
        "    if fila:\n",
        "        return fila.popleft()\n",
        "    else:\n",
        "        return None\n",
        "\n",
        "pedido_atendido = processar_pedido(fila_de_pedidos)\n",
        "print(f\"Pedido atendido: {pedido_atendido}\")\n",
        "\n",
        "#Verificar Fila Vazia\n",
        "def fila_vazia(fila):\n",
        "    return len(fila) == 0\n",
        "\n",
        "print(\"Fila está vazia?\", fila_vazia(fila_de_pedidos))\n",
        "\n",
        "#Visualizar Fila Restante\n",
        "print(\"Pedidos restantes na fila:\", list(fila_de_pedidos))\n",
        "\n",
        "#Processar Pedidos Restantes\n",
        "while not fila_vazia(fila_de_pedidos):\n",
        "    pedido_atendido = processar_pedido(fila_de_pedidos)\n",
        "    print(f\"Pedido atendido: {pedido_atendido}\")\n",
        "\n",
        "#Verificar novamente se a fila está vazia\n",
        "print(\"Fila está vazia ao final?\", fila_vazia(fila_de_pedidos))\n"
      ],
      "metadata": {
        "colab": {
          "base_uri": "https://localhost:8080/"
        },
        "id": "misPgQ_XDMAX",
        "outputId": "9fb58da3-61ff-409e-e12c-f1e0f2fb3066"
      },
      "execution_count": null,
      "outputs": [
        {
          "output_type": "stream",
          "name": "stdout",
          "text": [
            "Fila de pedidos atual: ['Martelo Encantado', 'Pinça Teleportadora', 'Chave de Fenda Sônica']\n",
            "Pedido atendido: Martelo Encantado\n",
            "Fila está vazia? False\n",
            "Pedidos restantes na fila: ['Pinça Teleportadora', 'Chave de Fenda Sônica']\n",
            "Pedido atendido: Pinça Teleportadora\n",
            "Pedido atendido: Chave de Fenda Sônica\n",
            "Fila está vazia ao final? True\n"
          ]
        }
      ]
    },
    {
      "cell_type": "markdown",
      "source": [
        "atvd 3"
      ],
      "metadata": {
        "id": "sVmkXwMdCYHl"
      }
    },
    {
      "cell_type": "code",
      "source": [
        "#Criar a Pilha\n",
        "torre_de_cristais = []\n",
        "\n",
        "#Função para empilhar cristal\n",
        "def empilhar_cristal(pilha, cristal):\n",
        "    pilha.append(cristal)\n",
        "\n",
        "#Função para desempilhar cristal\n",
        "def desempilhar_cristal(pilha):\n",
        "    if pilha:  # Se a pilha não estiver vazia\n",
        "        return pilha.pop()\n",
        "    else:\n",
        "        return None\n",
        "\n",
        "#Função para verificar se a pilha está vazia\n",
        "def pilha_vazia(pilha):\n",
        "    return len(pilha) == 0\n",
        "\n",
        "#Empilhando os cristais\n",
        "empilhar_cristal(torre_de_cristais, \"Cristal do Passado\")\n",
        "empilhar_cristal(torre_de_cristais, \"Cristal do Presente\")\n",
        "empilhar_cristal(torre_de_cristais, \"Cristal do Futuro\")\n",
        "\n",
        "#Visualizar a pilha\n",
        "print(\"Torre de Cristais (inicial):\", torre_de_cristais)\n",
        "\n",
        "#Desempilhar o cristal do topo para um ritual\n",
        "cristal_utilizado = desempilhar_cristal(torre_de_cristais)\n",
        "if cristal_utilizado:\n",
        "    print(f\"Cristal utilizado no ritual: {cristal_utilizado}\")\n",
        "\n",
        "#Verificar se a pilha ainda possui cristais\n",
        "if pilha_vazia(torre_de_cristais):\n",
        "    print(\"A torre de cristais está vazia.\")\n",
        "else:\n",
        "    print(\"A torre de cristais ainda possui cristais.\")\n",
        "\n",
        "#Visualizar a pilha restante\n",
        "print(\"Torre de Cristais (restante):\", torre_de_cristais)\n",
        "\n",
        "#Desempilhar os cristais restantes\n",
        "while not pilha_vazia(torre_de_cristais):\n",
        "    cristal_utilizado = desempilhar_cristal(torre_de_cristais)\n",
        "    print(f\"Cristal utilizado no ritual: {cristal_utilizado}\")\n",
        "\n",
        "#Verificar se a pilha está vazia ao final\n",
        "if pilha_vazia(torre_de_cristais):\n",
        "    print(\"A torre de cristais está vazia após todos os rituais.\")\n"
      ],
      "metadata": {
        "colab": {
          "base_uri": "https://localhost:8080/"
        },
        "id": "rajws4xaEbr3",
        "outputId": "460a1f19-e235-43a7-a679-b048a91980b6"
      },
      "execution_count": null,
      "outputs": [
        {
          "output_type": "stream",
          "name": "stdout",
          "text": [
            "Torre de Cristais (inicial): ['Cristal do Passado', 'Cristal do Presente', 'Cristal do Futuro']\n",
            "Cristal utilizado no ritual: Cristal do Futuro\n",
            "A torre de cristais ainda possui cristais.\n",
            "Torre de Cristais (restante): ['Cristal do Passado', 'Cristal do Presente']\n",
            "Cristal utilizado no ritual: Cristal do Presente\n",
            "Cristal utilizado no ritual: Cristal do Passado\n",
            "A torre de cristais está vazia após todos os rituais.\n"
          ]
        }
      ]
    }
  ]
}